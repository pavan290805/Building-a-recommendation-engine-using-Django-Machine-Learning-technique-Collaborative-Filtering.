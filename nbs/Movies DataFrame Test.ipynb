{
 "cells": [
  {
   "cell_type": "code",
   "execution_count": null,
   "id": "c6757bb6",
   "metadata": {},
   "outputs": [],
   "source": [
    "import setup_django\n",
    "setup_django.init()"
   ]
  },
  {
   "cell_type": "code",
   "execution_count": null,
   "id": "ce7c1db1",
   "metadata": {},
   "outputs": [],
   "source": [
    "from movies.models import Movie\n",
    "\n",
    "qs = Movie.objects.all().values('title', 'release_date', 'rating_avg', 'rating_count')\n",
    "qs"
   ]
  },
  {
   "cell_type": "code",
   "execution_count": null,
   "id": "92e62129",
   "metadata": {},
   "outputs": [],
   "source": [
    "import pandas as pd"
   ]
  },
  {
   "cell_type": "code",
   "execution_count": null,
   "id": "462cc01e",
   "metadata": {},
   "outputs": [],
   "source": [
    "df = pd.DataFrame(qs)\n",
    "df.head(n=10)"
   ]
  },
  {
   "cell_type": "code",
   "execution_count": null,
   "id": "3239160f",
   "metadata": {},
   "outputs": [],
   "source": [
    "qs.first()"
   ]
  },
  {
   "cell_type": "code",
   "execution_count": null,
   "id": "70e67979",
   "metadata": {},
   "outputs": [],
   "source": [
    "# df.to_csv()"
   ]
  }
 ],
 "metadata": {
  "kernelspec": {
   "display_name": "Python 3 (ipykernel)",
   "language": "python",
   "name": "python3"
  },
  "language_info": {
   "codemirror_mode": {
    "name": "ipython",
    "version": 3
   },
   "file_extension": ".py",
   "mimetype": "text/x-python",
   "name": "python",
   "nbconvert_exporter": "python",
   "pygments_lexer": "ipython3",
   "version": "3.11.1"
  }
 },
 "nbformat": 4,
 "nbformat_minor": 5
}
