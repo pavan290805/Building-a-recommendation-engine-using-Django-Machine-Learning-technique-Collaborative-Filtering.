{
 "cells": [
  {
   "cell_type": "code",
   "execution_count": null,
   "id": "c6757bb6",
   "metadata": {},
   "outputs": [],
   "source": [
    "import setup_django\n",
    "setup_django.init()"
   ]
  },
  {
   "cell_type": "code",
   "execution_count": null,
   "id": "2f9d0aaf",
   "metadata": {},
   "outputs": [],
   "source": [
    "import pandas as pd\n",
    "from django.conf import settings\n",
    "from movies.models import Movie\n",
    "from ratings.models import Rating\n",
    "\n",
    "\n",
    "LINKS_SMALL_CSV = settings.DATA_DIR / 'links_small.csv'\n",
    "LINKS_SMALL_CSV.exists()"
   ]
  },
  {
   "cell_type": "code",
   "execution_count": null,
   "id": "be07ab46",
   "metadata": {},
   "outputs": [],
   "source": [
    "qs = Rating.objects.all()\n",
    "missing_movie_ids = []\n",
    "for instance in qs:\n",
    "    if instance.content_object is None:\n",
    "        missing_movie_ids.append(instance.object_id)\n",
    "\n",
    "        \n",
    "_total = len(missing_movie_ids)\n",
    "total_missing = list(set(missing_movie_ids))"
   ]
  },
  {
   "cell_type": "code",
   "execution_count": null,
   "id": "9daecdc4",
   "metadata": {},
   "outputs": [],
   "source": [
    "print(len(total_missing), _total, qs.count())"
   ]
  },
  {
   "cell_type": "code",
   "execution_count": null,
   "id": "0e3d6051",
   "metadata": {},
   "outputs": [],
   "source": [
    "links_df = pd.read_csv(LINKS_SMALL_CSV)\n",
    "links_df.head()"
   ]
  },
  {
   "cell_type": "code",
   "execution_count": null,
   "id": "d0265b3e",
   "metadata": {},
   "outputs": [],
   "source": [
    "ms_df = links_df.copy()[links_df.movieId.isin(total_missing)]\n",
    "ms_df.head()\n",
    "\n",
    "\n",
    "\n"
   ]
  },
  {
   "cell_type": "code",
   "execution_count": null,
   "id": "1fa7daf7",
   "metadata": {},
   "outputs": [],
   "source": [
    "ms_df.shape[0] == len(total_missing)"
   ]
  },
  {
   "cell_type": "code",
   "execution_count": null,
   "id": "ffbde586",
   "metadata": {},
   "outputs": [],
   "source": [
    "def enrich_imdb_col(val):\n",
    "    val = str(val)\n",
    "    if len(val) == 7:\n",
    "        val = f\"tt{val}\"\n",
    "        return val\n",
    "    if len(val) == 6:\n",
    "        val = f\"tt0{val}\"\n",
    "        return val\n",
    "    if len(val) == 5:\n",
    "        val = f\"tt00{val}\"\n",
    "        return val\n",
    "    return val"
   ]
  },
  {
   "cell_type": "code",
   "execution_count": null,
   "id": "e6d9587f",
   "metadata": {},
   "outputs": [],
   "source": [
    "ms_df['tt'] = ms_df['imdbId'].apply(enrich_imdb_col)\n",
    "# ms_df.to_csv('')\n",
    "ms_df.head()"
   ]
  },
  {
   "cell_type": "code",
   "execution_count": null,
   "id": "a6388eda",
   "metadata": {},
   "outputs": [],
   "source": [
    "MOVIES_CSV = settings.DATA_DIR / 'movies_metadata.csv'\n",
    "MOVIES_CSV.exists()"
   ]
  },
  {
   "cell_type": "code",
   "execution_count": null,
   "id": "ca173c19",
   "metadata": {},
   "outputs": [],
   "source": [
    "movies_cols = ['title', 'overview', 'release_date', 'imdb_id']\n",
    "movies_df = pd.read_csv(MOVIES_CSV, usecols=movies_cols)\n",
    "movies_df.head()"
   ]
  },
  {
   "cell_type": "code",
   "execution_count": null,
   "id": "b2a8e452",
   "metadata": {},
   "outputs": [],
   "source": [
    "missing_movies_df = ms_df.merge(movies_df, left_on='tt', right_on='imdb_id')\n",
    "missing_movies_df.head()"
   ]
  },
  {
   "cell_type": "code",
   "execution_count": null,
   "id": "b39e952e",
   "metadata": {},
   "outputs": [],
   "source": [
    "missing_movies_df['id'] = missing_movies_df['movieId']\n",
    "missing_movies_df['id_alt'] = missing_movies_df['tmdbId'].apply(lambda x: str(int(x)))\n",
    "missing_movies_df.head()"
   ]
  },
  {
   "cell_type": "code",
   "execution_count": null,
   "id": "146efa7f",
   "metadata": {
    "scrolled": true
   },
   "outputs": [],
   "source": [
    "final_df = missing_movies_df.copy()[['id', 'id_alt', 'title']]\n",
    "final_df['id_alt'] = final_df['id_alt'].astype(str)\n",
    "final_df.head()"
   ]
  },
  {
   "cell_type": "code",
   "execution_count": null,
   "id": "a3b75a21",
   "metadata": {},
   "outputs": [],
   "source": [
    "alt_id_list = final_df['id_alt'].to_list()"
   ]
  },
  {
   "cell_type": "code",
   "execution_count": null,
   "id": "ee76b1eb",
   "metadata": {},
   "outputs": [],
   "source": [
    "\n",
    "movies_qs.count()"
   ]
  },
  {
   "cell_type": "code",
   "execution_count": null,
   "id": "2b5d3969",
   "metadata": {},
   "outputs": [],
   "source": [
    "from django.forms.models import model_to_dict"
   ]
  },
  {
   "cell_type": "code",
   "execution_count": null,
   "id": "27707215",
   "metadata": {},
   "outputs": [],
   "source": [
    "movies_qs = Movie.objects.filter(id__in=alt_id_list)\n",
    "for obj in movies_qs:\n",
    "    data = final_df.copy()[final_df['id_alt'] == str(obj.id)]\n",
    "    if data.shape[0] == 1:\n",
    "        og_model_data = model_to_dict(obj)\n",
    "        update_data = data.to_dict('records')[0]\n",
    "        if obj.title == update_data.get('title'): \n",
    "            # print(og_model_data)\n",
    "            og_model_data['id'] = update_data['id']\n",
    "            new_model_data = {**og_model_data}\n",
    "            # print(new_model_data)\n",
    "            obj.delete()\n",
    "            Movie.objects.create(**new_model_data)"
   ]
  },
  {
   "cell_type": "code",
   "execution_count": null,
   "id": "c82d507e",
   "metadata": {},
   "outputs": [],
   "source": [
    "from ratings.tasks import task_update_movie_ratings\n",
    "task_update_movie_ratings()"
   ]
  },
  {
   "cell_type": "code",
   "execution_count": null,
   "id": "f3b4510c",
   "metadata": {},
   "outputs": [],
   "source": []
  }
 ],
 "metadata": {
  "kernelspec": {
   "display_name": "Python 3 (ipykernel)",
   "language": "python",
   "name": "python3"
  },
  "language_info": {
   "codemirror_mode": {
    "name": "ipython",
    "version": 3
   },
   "file_extension": ".py",
   "mimetype": "text/x-python",
   "name": "python",
   "nbconvert_exporter": "python",
   "pygments_lexer": "ipython3",
   "version": "3.11.1"
  }
 },
 "nbformat": 4,
 "nbformat_minor": 5
}
