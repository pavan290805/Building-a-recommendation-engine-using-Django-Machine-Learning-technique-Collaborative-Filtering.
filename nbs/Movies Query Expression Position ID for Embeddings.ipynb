{
 "cells": [
  {
   "cell_type": "code",
   "execution_count": null,
   "id": "c6757bb6",
   "metadata": {},
   "outputs": [],
   "source": [
    "import setup_django\n",
    "setup_django.init()"
   ]
  },
  {
   "cell_type": "code",
   "execution_count": null,
   "id": "ce7c1db1",
   "metadata": {},
   "outputs": [],
   "source": [
    "from movies.models import Movie\n",
    "\n",
    "qs = Movie.objects.all().order_by('id')[:100]"
   ]
  },
  {
   "cell_type": "code",
   "execution_count": null,
   "id": "8e21e3b0",
   "metadata": {},
   "outputs": [],
   "source": [
    "for i, obj in enumerate(qs):\n",
    "    print(\"position:\", i, \"\\t\\tid:\", obj.id, '\\t\\tdelta:', obj.id - i)"
   ]
  },
  {
   "cell_type": "code",
   "execution_count": null,
   "id": "32d6ac52",
   "metadata": {},
   "outputs": [],
   "source": [
    "from django.db.models import Window, F\n",
    "from django.db.models.functions import DenseRank"
   ]
  },
  {
   "cell_type": "code",
   "execution_count": null,
   "id": "dcb161f7",
   "metadata": {},
   "outputs": [],
   "source": [
    "qs = Movie.objects.all().annotate(\n",
    "        new_idx=Window(\n",
    "            expression=DenseRank(), \n",
    "            order_by=[F('id').asc()]\n",
    "        )\n",
    "    ).annotate(final_idx = F('new_idx') - 1\n",
    ")\n",
    "\n",
    "for i, obj in enumerate(qs[:100]):\n",
    "    print(\"position:\", i, \"\\t\\tidx:\", obj.final_idx, \"\\t\\tobj:\", obj.id,  '\\t\\tdelta:', obj.final_idx - i)"
   ]
  },
  {
   "cell_type": "code",
   "execution_count": null,
   "id": "56ee2a76",
   "metadata": {},
   "outputs": [],
   "source": []
  }
 ],
 "metadata": {
  "kernelspec": {
   "display_name": "Python 3 (ipykernel)",
   "language": "python",
   "name": "python3"
  },
  "language_info": {
   "codemirror_mode": {
    "name": "ipython",
    "version": 3
   },
   "file_extension": ".py",
   "mimetype": "text/x-python",
   "name": "python",
   "nbconvert_exporter": "python",
   "pygments_lexer": "ipython3",
   "version": "3.11.1"
  }
 },
 "nbformat": 4,
 "nbformat_minor": 5
}
