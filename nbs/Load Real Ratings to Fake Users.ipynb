{
 "cells": [
  {
   "cell_type": "code",
   "execution_count": null,
   "id": "c6757bb6",
   "metadata": {},
   "outputs": [],
   "source": [
    "import setup_django\n",
    "setup_django.init()"
   ]
  },
  {
   "cell_type": "code",
   "execution_count": null,
   "id": "ce7c1db1",
   "metadata": {},
   "outputs": [],
   "source": [
    "import pandas as pd\n",
    "from django.conf import settings\n",
    "\n",
    "ratings_path = settings.DATA_DIR / \"ratings_small.csv\" #pathlib\n",
    "ratings_path.exists()"
   ]
  },
  {
   "cell_type": "code",
   "execution_count": null,
   "id": "92e62129",
   "metadata": {},
   "outputs": [],
   "source": [
    "df = pd.read_csv(ratings_path)"
   ]
  },
  {
   "cell_type": "code",
   "execution_count": null,
   "id": "462cc01e",
   "metadata": {},
   "outputs": [],
   "source": [
    "df.head(n=10)"
   ]
  },
  {
   "cell_type": "code",
   "execution_count": null,
   "id": "3239160f",
   "metadata": {},
   "outputs": [],
   "source": [
    "from django.contrib.auth import get_user_model\n",
    "\n",
    "User = get_user_model()"
   ]
  },
  {
   "cell_type": "code",
   "execution_count": null,
   "id": "70e67979",
   "metadata": {},
   "outputs": [],
   "source": [
    "current_users = User.objects.all().values_list('id', flat=True)\n",
    "rating_users = df['userId'].tolist()"
   ]
  },
  {
   "cell_type": "code",
   "execution_count": null,
   "id": "d9235066",
   "metadata": {},
   "outputs": [],
   "source": [
    "missing_user_ids = set(rating_users) - set(current_users)\n",
    "missing_user_ids"
   ]
  },
  {
   "cell_type": "code",
   "execution_count": null,
   "id": "84a95596",
   "metadata": {},
   "outputs": [],
   "source": [
    "for uid in missing_user_ids:\n",
    "    User.objects.create(\n",
    "        id=uid,\n",
    "        username=f\"missing-user-{uid}\"\n",
    "    )"
   ]
  },
  {
   "cell_type": "code",
   "execution_count": null,
   "id": "fc03850e",
   "metadata": {},
   "outputs": [],
   "source": [
    "import math\n",
    "from decimal import Decimal"
   ]
  },
  {
   "cell_type": "code",
   "execution_count": null,
   "id": "6bf29533",
   "metadata": {},
   "outputs": [],
   "source": [
    "df['value'] = df['rating'].apply(lambda x: math.ceil(Decimal(x)))\n",
    "df.head()"
   ]
  },
  {
   "cell_type": "code",
   "execution_count": null,
   "id": "421ff6e5",
   "metadata": {},
   "outputs": [],
   "source": [
    "df['user_id'] = df['userId']\n",
    "df['object_id'] = df['movieId']"
   ]
  },
  {
   "cell_type": "code",
   "execution_count": null,
   "id": "f223f866",
   "metadata": {},
   "outputs": [],
   "source": [
    "df.head()"
   ]
  },
  {
   "cell_type": "code",
   "execution_count": null,
   "id": "5d47d43b",
   "metadata": {},
   "outputs": [],
   "source": [
    "cols = ['user_id', 'value', 'object_id']\n",
    "transformed_df = df.copy()[cols]"
   ]
  },
  {
   "cell_type": "code",
   "execution_count": null,
   "id": "5ea04283",
   "metadata": {},
   "outputs": [],
   "source": [
    "rating_records = transformed_df.to_dict('records')"
   ]
  },
  {
   "cell_type": "code",
   "execution_count": null,
   "id": "c177b4ea",
   "metadata": {},
   "outputs": [],
   "source": [
    "from ratings.models import Rating\n",
    "qs = Rating.objects.all()\n",
    "qs.delete()"
   ]
  },
  {
   "cell_type": "code",
   "execution_count": null,
   "id": "50477680",
   "metadata": {},
   "outputs": [],
   "source": [
    "from django.contrib.contenttypes.models import ContentType\n",
    "\n",
    "ctype = ContentType.objects.get(app_label='movies', model='movie')\n"
   ]
  },
  {
   "cell_type": "code",
   "execution_count": null,
   "id": "08e5e64f",
   "metadata": {},
   "outputs": [],
   "source": [
    "new_ratings = []\n",
    "for r in rating_records:\n",
    "    r['content_type'] = ctype\n",
    "    new_ratings.append(\n",
    "        Rating(**r)\n",
    "    )\n",
    "Rating.objects.bulk_create(new_ratings, ignore_conflicts=True, batch_size=1000)"
   ]
  },
  {
   "cell_type": "code",
   "execution_count": null,
   "id": "ebec541f",
   "metadata": {},
   "outputs": [],
   "source": [
    "from ratings.tasks import task_update_movie_ratings\n",
    "\n",
    "task_update_movie_ratings()"
   ]
  },
  {
   "cell_type": "code",
   "execution_count": null,
   "id": "2f9d0aaf",
   "metadata": {},
   "outputs": [],
   "source": []
  }
 ],
 "metadata": {
  "kernelspec": {
   "display_name": "Python 3 (ipykernel)",
   "language": "python",
   "name": "python3"
  },
  "language_info": {
   "codemirror_mode": {
    "name": "ipython",
    "version": 3
   },
   "file_extension": ".py",
   "mimetype": "text/x-python",
   "name": "python",
   "nbconvert_exporter": "python",
   "pygments_lexer": "ipython3",
   "version": "3.11.1"
  }
 },
 "nbformat": 4,
 "nbformat_minor": 5
}
