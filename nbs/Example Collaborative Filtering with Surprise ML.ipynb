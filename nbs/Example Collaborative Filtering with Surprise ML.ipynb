{
 "cells": [
  {
   "cell_type": "code",
   "execution_count": null,
   "id": "30f12085",
   "metadata": {},
   "outputs": [],
   "source": [
    "# %pip install scikit-surprise==1.1.0 # pickle"
   ]
  },
  {
   "cell_type": "code",
   "execution_count": null,
   "id": "9245519c",
   "metadata": {},
   "outputs": [],
   "source": [
    "from surprise import accuracy, Reader, Dataset, SVD\n",
    "from surprise.model_selection import cross_validate"
   ]
  },
  {
   "cell_type": "code",
   "execution_count": null,
   "id": "2b9a800e",
   "metadata": {},
   "outputs": [],
   "source": [
    "import pandas as pd\n",
    "import pathlib\n",
    "DATA_DIR = pathlib.Path().resolve().parent / \"data\"\n",
    "print(DATA_DIR)\n",
    "DATA_DIR.exists()"
   ]
  },
  {
   "cell_type": "code",
   "execution_count": null,
   "id": "ca84eeb6",
   "metadata": {},
   "outputs": [],
   "source": [
    "dataset = DATA_DIR / 'ratings_small.csv'\n",
    "dataset.exists()"
   ]
  },
  {
   "cell_type": "code",
   "execution_count": null,
   "id": "09256f03",
   "metadata": {},
   "outputs": [],
   "source": [
    "df = pd.read_csv(dataset)\n",
    "df['rating'].dropna(inplace=True)\n",
    "df.head()"
   ]
  },
  {
   "cell_type": "code",
   "execution_count": null,
   "id": "3bb2f433",
   "metadata": {},
   "outputs": [],
   "source": [
    "df.rating.max(), df.rating.min()"
   ]
  },
  {
   "cell_type": "code",
   "execution_count": null,
   "id": "e43be89e",
   "metadata": {},
   "outputs": [],
   "source": [
    "reader = Reader(rating_scale=(0.5, 5))\n",
    "data = Dataset.load_from_df(df[['userId', 'movieId', 'rating']], reader)"
   ]
  },
  {
   "cell_type": "code",
   "execution_count": null,
   "id": "a8c17eca",
   "metadata": {},
   "outputs": [],
   "source": [
    "algo = SVD(verbose=True, n_epochs=20)\n",
    "cross_validate(algo, data, measures=['RMSE', \"MAE\"], cv=4, verbose=True)"
   ]
  },
  {
   "cell_type": "code",
   "execution_count": null,
   "id": "c1739d52",
   "metadata": {},
   "outputs": [],
   "source": [
    "trainset = data.build_full_trainset()\n",
    "algo.fit(trainset)"
   ]
  },
  {
   "cell_type": "code",
   "execution_count": null,
   "id": "407a17ac",
   "metadata": {},
   "outputs": [],
   "source": [
    "testset = trainset.build_testset()\n",
    "predictions = algo.test(testset)\n",
    "# RMSE should be low as we are biased\n",
    "accuracy.rmse(predictions, verbose=True)\n",
    "# accuracy.mae(predictions, verbose=True)"
   ]
  },
  {
   "cell_type": "code",
   "execution_count": null,
   "id": "add78eba",
   "metadata": {},
   "outputs": [],
   "source": [
    "sample_row = df.sample(n=1)\n",
    "userId = sample_row['userId'].values[0]\n",
    "movieId = sample_row['movieId'].values[0]\n",
    "print(userId, movieId)"
   ]
  },
  {
   "cell_type": "code",
   "execution_count": null,
   "id": "17bf1722",
   "metadata": {},
   "outputs": [],
   "source": [
    "pred = algo.predict(uid=userId, iid=movieId)\n",
    "pred.est"
   ]
  },
  {
   "cell_type": "code",
   "execution_count": null,
   "id": "0252cc76",
   "metadata": {},
   "outputs": [],
   "source": [
    "import pickle"
   ]
  },
  {
   "cell_type": "code",
   "execution_count": null,
   "id": "85277239",
   "metadata": {},
   "outputs": [],
   "source": [
    "algo_data = {\"model\": algo}\n",
    "with open('model.pkl', 'wb') as f:\n",
    "    pickle.dump(algo_data, f)"
   ]
  },
  {
   "cell_type": "code",
   "execution_count": null,
   "id": "e54b3f7a",
   "metadata": {},
   "outputs": [],
   "source": [
    "model_algo= None\n",
    "with open('model.pkl', 'rb') as f:\n",
    "    model_data_loaded = pickle.load(f)\n",
    "    model_algo = model_data_loaded.get('model')"
   ]
  },
  {
   "cell_type": "code",
   "execution_count": null,
   "id": "bda0aa70",
   "metadata": {},
   "outputs": [],
   "source": [
    "model_algo.predict(uid=userId, iid=movieId).est"
   ]
  },
  {
   "cell_type": "code",
   "execution_count": null,
   "id": "533004a7",
   "metadata": {},
   "outputs": [],
   "source": [
    "sample_rows = df.sample(n=10).to_dict('records')\n",
    "for row in sample_rows:\n",
    "    userId = row['userId']\n",
    "    movieId = row['movieId']\n",
    "    pred = model_algo.predict(uid=userId, iid=movieId).est\n",
    "    print(userId, movieId, pred)"
   ]
  },
  {
   "cell_type": "code",
   "execution_count": null,
   "id": "de2a19a0",
   "metadata": {},
   "outputs": [],
   "source": []
  }
 ],
 "metadata": {
  "kernelspec": {
   "display_name": "Python 3 (ipykernel)",
   "language": "python",
   "name": "python3"
  },
  "language_info": {
   "codemirror_mode": {
    "name": "ipython",
    "version": 3
   },
   "file_extension": ".py",
   "mimetype": "text/x-python",
   "name": "python",
   "nbconvert_exporter": "python",
   "pygments_lexer": "ipython3",
   "version": "3.11.1"
  }
 },
 "nbformat": 4,
 "nbformat_minor": 5
}
